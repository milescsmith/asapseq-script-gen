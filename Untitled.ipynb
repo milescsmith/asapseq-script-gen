{
 "cells": [
  {
   "cell_type": "code",
   "execution_count": 2,
   "id": "2db6229e-aa37-40e1-81b6-c68d93511867",
   "metadata": {
    "execution": {
     "iopub.execute_input": "2024-06-06T20:19:28.088879Z",
     "iopub.status.busy": "2024-06-06T20:19:28.088588Z",
     "iopub.status.idle": "2024-06-06T20:19:28.119691Z",
     "shell.execute_reply": "2024-06-06T20:19:28.119100Z",
     "shell.execute_reply.started": "2024-06-06T20:19:28.088866Z"
    }
   },
   "outputs": [],
   "source": [
    "from pathlib import Path\n",
    "import polars as pl"
   ]
  },
  {
   "cell_type": "code",
   "execution_count": 19,
   "id": "ed39e97e-c021-412d-8c09-36af71f57734",
   "metadata": {
    "execution": {
     "iopub.execute_input": "2024-06-06T20:32:01.377314Z",
     "iopub.status.busy": "2024-06-06T20:32:01.376540Z",
     "iopub.status.idle": "2024-06-06T20:32:01.380851Z",
     "shell.execute_reply": "2024-06-06T20:32:01.380044Z",
     "shell.execute_reply.started": "2024-06-06T20:32:01.377297Z"
    }
   },
   "outputs": [],
   "source": [
    "proj = Path(\"/\", \"mnt\", \"scratch\", \"ARA08\")\n",
    "data = proj.joinpath(\"data\", \"raw\", \"fastqs\")\n",
    "set_2 = data.joinpath(\"asapseq_set_2\")"
   ]
  },
  {
   "cell_type": "code",
   "execution_count": 21,
   "id": "323c2fa7-29a1-4283-a845-163b04c648bd",
   "metadata": {
    "execution": {
     "iopub.execute_input": "2024-06-06T20:32:05.448702Z",
     "iopub.status.busy": "2024-06-06T20:32:05.448407Z",
     "iopub.status.idle": "2024-06-06T20:32:05.529203Z",
     "shell.execute_reply": "2024-06-06T20:32:05.528832Z",
     "shell.execute_reply.started": "2024-06-06T20:32:05.448690Z"
    }
   },
   "outputs": [
    {
     "data": {
      "text/plain": [
       "True"
      ]
     },
     "execution_count": 21,
     "metadata": {},
     "output_type": "execute_result"
    }
   ],
   "source": [
    "set_2.exists()"
   ]
  },
  {
   "cell_type": "code",
   "execution_count": 23,
   "id": "838e60f0-a7f7-4635-b7df-e25dfe34b703",
   "metadata": {
    "execution": {
     "iopub.execute_input": "2024-06-06T20:33:17.876478Z",
     "iopub.status.busy": "2024-06-06T20:33:17.876070Z",
     "iopub.status.idle": "2024-06-06T20:33:17.946721Z",
     "shell.execute_reply": "2024-06-06T20:33:17.946319Z",
     "shell.execute_reply.started": "2024-06-06T20:33:17.876462Z"
    }
   },
   "outputs": [
    {
     "data": {
      "text/plain": [
       "True"
      ]
     },
     "execution_count": 23,
     "metadata": {},
     "output_type": "execute_result"
    }
   ],
   "source": [
    "samplesheet_file = proj / \"metadata\" / \"samplesheets\" / \"CGC-MS-2095_20240410_ara08_scATACseq_set_2.csv\"\n",
    "samplesheet_file.exists()"
   ]
  },
  {
   "cell_type": "code",
   "execution_count": 25,
   "id": "a8be77ee-a5b1-4f29-9597-26407d9900bf",
   "metadata": {
    "execution": {
     "iopub.execute_input": "2024-06-06T20:33:49.823836Z",
     "iopub.status.busy": "2024-06-06T20:33:49.823125Z",
     "iopub.status.idle": "2024-06-06T20:33:50.119589Z",
     "shell.execute_reply": "2024-06-06T20:33:50.118995Z",
     "shell.execute_reply.started": "2024-06-06T20:33:49.823815Z"
    }
   },
   "outputs": [],
   "source": [
    "ss_df = pl.read_csv(samplesheet_file)"
   ]
  },
  {
   "cell_type": "code",
   "execution_count": 26,
   "id": "422bc681-0257-4965-8e77-3034d8365b51",
   "metadata": {
    "execution": {
     "iopub.execute_input": "2024-06-06T20:33:51.340123Z",
     "iopub.status.busy": "2024-06-06T20:33:51.339627Z",
     "iopub.status.idle": "2024-06-06T20:33:51.344814Z",
     "shell.execute_reply": "2024-06-06T20:33:51.344093Z",
     "shell.execute_reply.started": "2024-06-06T20:33:51.340102Z"
    }
   },
   "outputs": [
    {
     "data": {
      "text/html": [
       "<div><style>\n",
       ".dataframe > thead > tr,\n",
       ".dataframe > tbody > tr {\n",
       "  text-align: right;\n",
       "  white-space: pre-wrap;\n",
       "}\n",
       "</style>\n",
       "<small>shape: (84, 4)</small><table border=\"1\" class=\"dataframe\"><thead><tr><th>[Header]</th><th></th><th>_duplicated_0</th><th>_duplicated_1</th></tr><tr><td>str</td><td>str</td><td>str</td><td>str</td></tr></thead><tbody><tr><td>&quot;FileFormatVersion&quot;</td><td>&quot;2&quot;</td><td>null</td><td>null</td></tr><tr><td>null</td><td>null</td><td>null</td><td>null</td></tr><tr><td>&quot;[BCLConvert_Settings]&quot;</td><td>null</td><td>null</td><td>null</td></tr><tr><td>&quot;CreateFastqForIndexReads&quot;</td><td>&quot;1&quot;</td><td>null</td><td>null</td></tr><tr><td>&quot;TrimUMI&quot;</td><td>&quot;0&quot;</td><td>null</td><td>null</td></tr><tr><td>&hellip;</td><td>&hellip;</td><td>&hellip;</td><td>&hellip;</td></tr><tr><td>&quot;6&quot;</td><td>&quot;ARA08_24_prot&quot;</td><td>&quot;GAGATTCC&quot;</td><td>&quot;ARA08_24&quot;</td></tr><tr><td>&quot;5&quot;</td><td>&quot;ARA08_04_scATAC&quot;</td><td>&quot;ATCTGATC&quot;</td><td>&quot;ARA08_04&quot;</td></tr><tr><td>&quot;5&quot;</td><td>&quot;ARA08_04_scATAC&quot;</td><td>&quot;CGTGCTAA&quot;</td><td>&quot;ARA08_04&quot;</td></tr><tr><td>&quot;5&quot;</td><td>&quot;ARA08_04_scATAC&quot;</td><td>&quot;GAGAAGGG&quot;</td><td>&quot;ARA08_04&quot;</td></tr><tr><td>&quot;5&quot;</td><td>&quot;ARA08_04_scATAC&quot;</td><td>&quot;TCACTCCT&quot;</td><td>&quot;ARA08_04&quot;</td></tr></tbody></table></div>"
      ],
      "text/plain": [
       "shape: (84, 4)\n",
       "┌──────────────────────────┬─────────────────┬───────────────┬───────────────┐\n",
       "│ [Header]                 ┆                 ┆ _duplicated_0 ┆ _duplicated_1 │\n",
       "│ ---                      ┆ ---             ┆ ---           ┆ ---           │\n",
       "│ str                      ┆ str             ┆ str           ┆ str           │\n",
       "╞══════════════════════════╪═════════════════╪═══════════════╪═══════════════╡\n",
       "│ FileFormatVersion        ┆ 2               ┆ null          ┆ null          │\n",
       "│ null                     ┆ null            ┆ null          ┆ null          │\n",
       "│ [BCLConvert_Settings]    ┆ null            ┆ null          ┆ null          │\n",
       "│ CreateFastqForIndexReads ┆ 1               ┆ null          ┆ null          │\n",
       "│ TrimUMI                  ┆ 0               ┆ null          ┆ null          │\n",
       "│ …                        ┆ …               ┆ …             ┆ …             │\n",
       "│ 6                        ┆ ARA08_24_prot   ┆ GAGATTCC      ┆ ARA08_24      │\n",
       "│ 5                        ┆ ARA08_04_scATAC ┆ ATCTGATC      ┆ ARA08_04      │\n",
       "│ 5                        ┆ ARA08_04_scATAC ┆ CGTGCTAA      ┆ ARA08_04      │\n",
       "│ 5                        ┆ ARA08_04_scATAC ┆ GAGAAGGG      ┆ ARA08_04      │\n",
       "│ 5                        ┆ ARA08_04_scATAC ┆ TCACTCCT      ┆ ARA08_04      │\n",
       "└──────────────────────────┴─────────────────┴───────────────┴───────────────┘"
      ]
     },
     "execution_count": 26,
     "metadata": {},
     "output_type": "execute_result"
    }
   ],
   "source": [
    "ss_df"
   ]
  },
  {
   "cell_type": "code",
   "execution_count": 122,
   "id": "8005a46f-e446-45f2-817a-42887b3352f4",
   "metadata": {
    "execution": {
     "iopub.execute_input": "2024-06-07T18:23:11.743427Z",
     "iopub.status.busy": "2024-06-07T18:23:11.742927Z",
     "iopub.status.idle": "2024-06-07T18:23:11.919817Z",
     "shell.execute_reply": "2024-06-07T18:23:11.919400Z",
     "shell.execute_reply.started": "2024-06-07T18:23:11.743415Z"
    }
   },
   "outputs": [],
   "source": [
    "with samplesheet_file.open('r') as s:\n",
    "    n = 1\n",
    "    while \"[BCLConvert_Data]\" not in s.readline():\n",
    "        n += 1\n",
    "\n",
    "ss_df = pl.read_csv(samplesheet_file, skip_rows=n)"
   ]
  },
  {
   "cell_type": "code",
   "execution_count": 123,
   "id": "d888d36e-c5e3-494e-a69b-6e1fbb9e2c11",
   "metadata": {
    "execution": {
     "iopub.execute_input": "2024-06-07T18:23:13.277556Z",
     "iopub.status.busy": "2024-06-07T18:23:13.277029Z",
     "iopub.status.idle": "2024-06-07T18:23:13.280886Z",
     "shell.execute_reply": "2024-06-07T18:23:13.280468Z",
     "shell.execute_reply.started": "2024-06-07T18:23:13.277544Z"
    }
   },
   "outputs": [
    {
     "data": {
      "text/html": [
       "<div><style>\n",
       ".dataframe > thead > tr,\n",
       ".dataframe > tbody > tr {\n",
       "  text-align: right;\n",
       "  white-space: pre-wrap;\n",
       "}\n",
       "</style>\n",
       "<small>shape: (74, 4)</small><table border=\"1\" class=\"dataframe\"><thead><tr><th>Lane</th><th>Sample_ID</th><th>index</th><th>Sample_Project</th></tr><tr><td>i64</td><td>str</td><td>str</td><td>str</td></tr></thead><tbody><tr><td>5</td><td>&quot;ARA08_11_scATAC&quot;</td><td>&quot;ATCGCTCC&quot;</td><td>&quot;ARA08_11&quot;</td></tr><tr><td>5</td><td>&quot;ARA08_11_scATAC&quot;</td><td>&quot;CCGTACAG&quot;</td><td>&quot;ARA08_11&quot;</td></tr><tr><td>5</td><td>&quot;ARA08_11_scATAC&quot;</td><td>&quot;GATAGGTA&quot;</td><td>&quot;ARA08_11&quot;</td></tr><tr><td>5</td><td>&quot;ARA08_11_scATAC&quot;</td><td>&quot;TGACTAGT&quot;</td><td>&quot;ARA08_11&quot;</td></tr><tr><td>5</td><td>&quot;ARA08_11_prot&quot;</td><td>&quot;ATTACTCG&quot;</td><td>&quot;ARA08_11&quot;</td></tr><tr><td>&hellip;</td><td>&hellip;</td><td>&hellip;</td><td>&hellip;</td></tr><tr><td>6</td><td>&quot;ARA08_24_prot&quot;</td><td>&quot;GAGATTCC&quot;</td><td>&quot;ARA08_24&quot;</td></tr><tr><td>5</td><td>&quot;ARA08_04_scATAC&quot;</td><td>&quot;ATCTGATC&quot;</td><td>&quot;ARA08_04&quot;</td></tr><tr><td>5</td><td>&quot;ARA08_04_scATAC&quot;</td><td>&quot;CGTGCTAA&quot;</td><td>&quot;ARA08_04&quot;</td></tr><tr><td>5</td><td>&quot;ARA08_04_scATAC&quot;</td><td>&quot;GAGAAGGG&quot;</td><td>&quot;ARA08_04&quot;</td></tr><tr><td>5</td><td>&quot;ARA08_04_scATAC&quot;</td><td>&quot;TCACTCCT&quot;</td><td>&quot;ARA08_04&quot;</td></tr></tbody></table></div>"
      ],
      "text/plain": [
       "shape: (74, 4)\n",
       "┌──────┬─────────────────┬──────────┬────────────────┐\n",
       "│ Lane ┆ Sample_ID       ┆ index    ┆ Sample_Project │\n",
       "│ ---  ┆ ---             ┆ ---      ┆ ---            │\n",
       "│ i64  ┆ str             ┆ str      ┆ str            │\n",
       "╞══════╪═════════════════╪══════════╪════════════════╡\n",
       "│ 5    ┆ ARA08_11_scATAC ┆ ATCGCTCC ┆ ARA08_11       │\n",
       "│ 5    ┆ ARA08_11_scATAC ┆ CCGTACAG ┆ ARA08_11       │\n",
       "│ 5    ┆ ARA08_11_scATAC ┆ GATAGGTA ┆ ARA08_11       │\n",
       "│ 5    ┆ ARA08_11_scATAC ┆ TGACTAGT ┆ ARA08_11       │\n",
       "│ 5    ┆ ARA08_11_prot   ┆ ATTACTCG ┆ ARA08_11       │\n",
       "│ …    ┆ …               ┆ …        ┆ …              │\n",
       "│ 6    ┆ ARA08_24_prot   ┆ GAGATTCC ┆ ARA08_24       │\n",
       "│ 5    ┆ ARA08_04_scATAC ┆ ATCTGATC ┆ ARA08_04       │\n",
       "│ 5    ┆ ARA08_04_scATAC ┆ CGTGCTAA ┆ ARA08_04       │\n",
       "│ 5    ┆ ARA08_04_scATAC ┆ GAGAAGGG ┆ ARA08_04       │\n",
       "│ 5    ┆ ARA08_04_scATAC ┆ TCACTCCT ┆ ARA08_04       │\n",
       "└──────┴─────────────────┴──────────┴────────────────┘"
      ]
     },
     "execution_count": 123,
     "metadata": {},
     "output_type": "execute_result"
    }
   ],
   "source": [
    "ss_df"
   ]
  },
  {
   "cell_type": "code",
   "execution_count": 124,
   "id": "2cd7e1f7-ee0f-4cb3-9152-ba1a853aa744",
   "metadata": {
    "execution": {
     "iopub.execute_input": "2024-06-07T18:23:13.627970Z",
     "iopub.status.busy": "2024-06-07T18:23:13.627811Z",
     "iopub.status.idle": "2024-06-07T18:23:13.631994Z",
     "shell.execute_reply": "2024-06-07T18:23:13.631586Z",
     "shell.execute_reply.started": "2024-06-07T18:23:13.627961Z"
    }
   },
   "outputs": [
    {
     "data": {
      "text/plain": [
       "['Lane', 'Sample_ID', 'index', 'Sample_Project']"
      ]
     },
     "execution_count": 124,
     "metadata": {},
     "output_type": "execute_result"
    }
   ],
   "source": [
    "ss_df.columns"
   ]
  },
  {
   "cell_type": "code",
   "execution_count": 125,
   "id": "298ecc7a-e6fc-4f9b-8d6f-4bde563948d6",
   "metadata": {
    "execution": {
     "iopub.execute_input": "2024-06-07T18:23:14.073448Z",
     "iopub.status.busy": "2024-06-07T18:23:14.073284Z",
     "iopub.status.idle": "2024-06-07T18:23:14.077837Z",
     "shell.execute_reply": "2024-06-07T18:23:14.077440Z",
     "shell.execute_reply.started": "2024-06-07T18:23:14.073438Z"
    }
   },
   "outputs": [
    {
     "data": {
      "text/html": [
       "<div><style>\n",
       ".dataframe > thead > tr,\n",
       ".dataframe > tbody > tr {\n",
       "  text-align: right;\n",
       "  white-space: pre-wrap;\n",
       "}\n",
       "</style>\n",
       "<small>shape: (14,)</small><table border=\"1\" class=\"dataframe\"><thead><tr><th>Sample_ID</th></tr><tr><td>str</td></tr></thead><tbody><tr><td>&quot;ARA08_22_prot&quot;</td></tr><tr><td>&quot;ARA08_15_prot&quot;</td></tr><tr><td>&quot;ARA08_11_prot&quot;</td></tr><tr><td>&quot;ARA08_12_prot&quot;</td></tr><tr><td>&quot;ARA08_23_prot&quot;</td></tr><tr><td>&hellip;</td></tr><tr><td>&quot;ARA08_24_prot&quot;</td></tr><tr><td>&quot;ARA08_21_prot&quot;</td></tr><tr><td>&quot;ARA08_14_prot&quot;</td></tr><tr><td>&quot;ARA08_20_prot&quot;</td></tr><tr><td>&quot;ARA08_19_prot&quot;</td></tr></tbody></table></div>"
      ],
      "text/plain": [
       "shape: (14,)\n",
       "Series: 'Sample_ID' [str]\n",
       "[\n",
       "\t\"ARA08_22_prot\"\n",
       "\t\"ARA08_15_prot\"\n",
       "\t\"ARA08_11_prot\"\n",
       "\t\"ARA08_12_prot\"\n",
       "\t\"ARA08_23_prot\"\n",
       "\t…\n",
       "\t\"ARA08_24_prot\"\n",
       "\t\"ARA08_21_prot\"\n",
       "\t\"ARA08_14_prot\"\n",
       "\t\"ARA08_20_prot\"\n",
       "\t\"ARA08_19_prot\"\n",
       "]"
      ]
     },
     "execution_count": 125,
     "metadata": {},
     "output_type": "execute_result"
    }
   ],
   "source": [
    "ss_df[\"Sample_ID\"].filter(ss_df[\"Sample_ID\"].str.ends_with(\"prot\")).unique()"
   ]
  },
  {
   "cell_type": "code",
   "execution_count": 126,
   "id": "08926301-ffe8-444f-8e24-54f7aa08abb4",
   "metadata": {
    "execution": {
     "iopub.execute_input": "2024-06-07T18:23:14.502782Z",
     "iopub.status.busy": "2024-06-07T18:23:14.502500Z",
     "iopub.status.idle": "2024-06-07T18:23:14.510948Z",
     "shell.execute_reply": "2024-06-07T18:23:14.510582Z",
     "shell.execute_reply.started": "2024-06-07T18:23:14.502769Z"
    }
   },
   "outputs": [
    {
     "data": {
      "text/html": [
       "<div><style>\n",
       ".dataframe > thead > tr,\n",
       ".dataframe > tbody > tr {\n",
       "  text-align: right;\n",
       "  white-space: pre-wrap;\n",
       "}\n",
       "</style>\n",
       "<small>shape: (14, 4)</small><table border=\"1\" class=\"dataframe\"><thead><tr><th>Lane</th><th>Sample_ID</th><th>index</th><th>Sample_Project</th></tr><tr><td>i64</td><td>str</td><td>str</td><td>str</td></tr></thead><tbody><tr><td>5</td><td>&quot;ARA08_11_prot&quot;</td><td>&quot;ATTACTCG&quot;</td><td>&quot;ARA08_11&quot;</td></tr><tr><td>6</td><td>&quot;ARA08_16_prot&quot;</td><td>&quot;GAATTCGT&quot;</td><td>&quot;ARA08_16&quot;</td></tr><tr><td>5</td><td>&quot;ARA08_15_prot&quot;</td><td>&quot;ATTCAGAA&quot;</td><td>&quot;ARA08_15&quot;</td></tr><tr><td>6</td><td>&quot;ARA08_22_prot&quot;</td><td>&quot;TCCGGAGA&quot;</td><td>&quot;ARA08_22&quot;</td></tr><tr><td>6</td><td>&quot;ARA08_23_prot&quot;</td><td>&quot;CGCTCATT&quot;</td><td>&quot;ARA08_23&quot;</td></tr><tr><td>&hellip;</td><td>&hellip;</td><td>&hellip;</td><td>&hellip;</td></tr><tr><td>5</td><td>&quot;ARA08_12_prot&quot;</td><td>&quot;TCCGGAGA&quot;</td><td>&quot;ARA08_12&quot;</td></tr><tr><td>6</td><td>&quot;ARA08_19_prot&quot;</td><td>&quot;CGGCTATG&quot;</td><td>&quot;ARA08_19&quot;</td></tr><tr><td>5</td><td>&quot;ARA08_14_prot&quot;</td><td>&quot;GAGATTCC&quot;</td><td>&quot;ARA08_14&quot;</td></tr><tr><td>5</td><td>&quot;ARA08_13_prot&quot;</td><td>&quot;CGCTCATT&quot;</td><td>&quot;ARA08_13&quot;</td></tr><tr><td>5</td><td>&quot;ARA08_20_prot&quot;</td><td>&quot;TCCGCGAA&quot;</td><td>&quot;ARA08_20&quot;</td></tr></tbody></table></div>"
      ],
      "text/plain": [
       "shape: (14, 4)\n",
       "┌──────┬───────────────┬──────────┬────────────────┐\n",
       "│ Lane ┆ Sample_ID     ┆ index    ┆ Sample_Project │\n",
       "│ ---  ┆ ---           ┆ ---      ┆ ---            │\n",
       "│ i64  ┆ str           ┆ str      ┆ str            │\n",
       "╞══════╪═══════════════╪══════════╪════════════════╡\n",
       "│ 5    ┆ ARA08_11_prot ┆ ATTACTCG ┆ ARA08_11       │\n",
       "│ 6    ┆ ARA08_16_prot ┆ GAATTCGT ┆ ARA08_16       │\n",
       "│ 5    ┆ ARA08_15_prot ┆ ATTCAGAA ┆ ARA08_15       │\n",
       "│ 6    ┆ ARA08_22_prot ┆ TCCGGAGA ┆ ARA08_22       │\n",
       "│ 6    ┆ ARA08_23_prot ┆ CGCTCATT ┆ ARA08_23       │\n",
       "│ …    ┆ …             ┆ …        ┆ …              │\n",
       "│ 5    ┆ ARA08_12_prot ┆ TCCGGAGA ┆ ARA08_12       │\n",
       "│ 6    ┆ ARA08_19_prot ┆ CGGCTATG ┆ ARA08_19       │\n",
       "│ 5    ┆ ARA08_14_prot ┆ GAGATTCC ┆ ARA08_14       │\n",
       "│ 5    ┆ ARA08_13_prot ┆ CGCTCATT ┆ ARA08_13       │\n",
       "│ 5    ┆ ARA08_20_prot ┆ TCCGCGAA ┆ ARA08_20       │\n",
       "└──────┴───────────────┴──────────┴────────────────┘"
      ]
     },
     "execution_count": 126,
     "metadata": {},
     "output_type": "execute_result"
    }
   ],
   "source": [
    "ss_df.filter(ss_df[\"Sample_ID\"].str.ends_with(\"prot\")).unique()"
   ]
  },
  {
   "cell_type": "code",
   "execution_count": 121,
   "id": "d7ff57ca-1ace-4846-91ec-3b47a79e89d5",
   "metadata": {
    "execution": {
     "iopub.execute_input": "2024-06-07T18:10:44.986710Z",
     "iopub.status.busy": "2024-06-07T18:10:44.986433Z",
     "iopub.status.idle": "2024-06-07T18:10:44.989250Z",
     "shell.execute_reply": "2024-06-07T18:10:44.988866Z",
     "shell.execute_reply.started": "2024-06-07T18:10:44.986697Z"
    }
   },
   "outputs": [
    {
     "name": "stdout",
     "output_type": "stream",
     "text": [
      "ARA08_11_scATAC\n",
      "ARA08_11_scATAC\n",
      "ARA08_11_scATAC\n",
      "ARA08_11_scATAC\n",
      "ARA08_11_prot\n",
      "ARA08_12_scATAC\n",
      "ARA08_12_scATAC\n",
      "ARA08_12_scATAC\n",
      "ARA08_12_scATAC\n",
      "ARA08_12_prot\n",
      "ARA08_13_scATAC\n",
      "ARA08_13_scATAC\n",
      "ARA08_13_scATAC\n",
      "ARA08_13_scATAC\n",
      "ARA08_13_prot\n",
      "ARA08_14_scATAC\n",
      "ARA08_14_scATAC\n",
      "ARA08_14_scATAC\n",
      "ARA08_14_scATAC\n",
      "ARA08_14_prot\n",
      "ARA08_15_scATAC\n",
      "ARA08_15_scATAC\n",
      "ARA08_15_scATAC\n",
      "ARA08_15_scATAC\n",
      "ARA08_15_prot\n",
      "ARA08_16_scATAC\n",
      "ARA08_16_scATAC\n",
      "ARA08_16_scATAC\n",
      "ARA08_16_scATAC\n",
      "ARA08_16_prot\n",
      "ARA08_17_scATAC\n",
      "ARA08_17_scATAC\n",
      "ARA08_17_scATAC\n",
      "ARA08_17_scATAC\n",
      "ARA08_17_prot\n",
      "ARA08_18_scATAC\n",
      "ARA08_18_scATAC\n",
      "ARA08_18_scATAC\n",
      "ARA08_18_scATAC\n",
      "ARA08_18_prot\n",
      "ARA08_19_scATAC\n",
      "ARA08_19_scATAC\n",
      "ARA08_19_scATAC\n",
      "ARA08_19_scATAC\n",
      "ARA08_19_prot\n",
      "ARA08_20_scATAC\n",
      "ARA08_20_scATAC\n",
      "ARA08_20_scATAC\n",
      "ARA08_20_scATAC\n",
      "ARA08_20_prot\n",
      "ARA08_21_scATAC\n",
      "ARA08_21_scATAC\n",
      "ARA08_21_scATAC\n",
      "ARA08_21_scATAC\n",
      "ARA08_21_prot\n",
      "ARA08_22_scATAC\n",
      "ARA08_22_scATAC\n",
      "ARA08_22_scATAC\n",
      "ARA08_22_scATAC\n",
      "ARA08_22_prot\n",
      "ARA08_23_scATAC\n",
      "ARA08_23_scATAC\n",
      "ARA08_23_scATAC\n",
      "ARA08_23_scATAC\n",
      "ARA08_23_prot\n",
      "ARA08_24_scATAC\n",
      "ARA08_24_scATAC\n",
      "ARA08_24_scATAC\n",
      "ARA08_24_scATAC\n",
      "ARA08_24_prot\n",
      "ARA08_04_scATAC\n",
      "ARA08_04_scATAC\n",
      "ARA08_04_scATAC\n",
      "ARA08_04_scATAC\n"
     ]
    }
   ],
   "source": [
    "for i in ss_df.iter_rows():\n",
    "    print(i[1])"
   ]
  },
  {
   "cell_type": "code",
   "execution_count": 129,
   "id": "a444307f-84e1-44e3-811a-8a3a23324bc3",
   "metadata": {
    "execution": {
     "iopub.execute_input": "2024-06-07T18:24:15.588645Z",
     "iopub.status.busy": "2024-06-07T18:24:15.588217Z",
     "iopub.status.idle": "2024-06-07T18:24:15.591148Z",
     "shell.execute_reply": "2024-06-07T18:24:15.590647Z",
     "shell.execute_reply.started": "2024-06-07T18:24:15.588632Z"
    }
   },
   "outputs": [],
   "source": [
    "ss_df = ss_df.filter(ss_df[\"Sample_ID\"].str.ends_with(\"prot\"))"
   ]
  },
  {
   "cell_type": "code",
   "execution_count": 130,
   "id": "0146fa45-ab2c-4ac5-aaba-c875a2541f7d",
   "metadata": {
    "execution": {
     "iopub.execute_input": "2024-06-07T18:24:16.616889Z",
     "iopub.status.busy": "2024-06-07T18:24:16.616737Z",
     "iopub.status.idle": "2024-06-07T18:24:16.619967Z",
     "shell.execute_reply": "2024-06-07T18:24:16.619393Z",
     "shell.execute_reply.started": "2024-06-07T18:24:16.616880Z"
    }
   },
   "outputs": [],
   "source": [
    "samples = ss_df[\"Sample_Project\"].unique()\n",
    "prot_samples = ss_df[\"Sample_ID\"].unique()"
   ]
  },
  {
   "cell_type": "code",
   "execution_count": 131,
   "id": "3bd6cba5-5fbc-488f-9395-26638f32576f",
   "metadata": {
    "execution": {
     "iopub.execute_input": "2024-06-07T18:24:17.684429Z",
     "iopub.status.busy": "2024-06-07T18:24:17.684061Z",
     "iopub.status.idle": "2024-06-07T18:24:17.687213Z",
     "shell.execute_reply": "2024-06-07T18:24:17.686774Z",
     "shell.execute_reply.started": "2024-06-07T18:24:17.684417Z"
    }
   },
   "outputs": [
    {
     "name": "stdout",
     "output_type": "stream",
     "text": [
      "i='ARA08_20' j='ARA08_20_prot'\n",
      "i='ARA08_14' j='ARA08_19_prot'\n",
      "i='ARA08_13' j='ARA08_12_prot'\n",
      "i='ARA08_23' j='ARA08_15_prot'\n",
      "i='ARA08_16' j='ARA08_18_prot'\n",
      "i='ARA08_21' j='ARA08_21_prot'\n",
      "i='ARA08_11' j='ARA08_22_prot'\n",
      "i='ARA08_18' j='ARA08_24_prot'\n",
      "i='ARA08_17' j='ARA08_13_prot'\n",
      "i='ARA08_15' j='ARA08_14_prot'\n",
      "i='ARA08_19' j='ARA08_16_prot'\n",
      "i='ARA08_24' j='ARA08_17_prot'\n",
      "i='ARA08_22' j='ARA08_11_prot'\n",
      "i='ARA08_12' j='ARA08_23_prot'\n"
     ]
    }
   ],
   "source": [
    "for i, j in zip(samples, prot_samples, strict=True):\n",
    "    print(f\"{i=} {j=}\")"
   ]
  },
  {
   "cell_type": "code",
   "execution_count": 140,
   "id": "429a1dd9-d913-4082-bfad-0ba20976ce2a",
   "metadata": {
    "execution": {
     "iopub.execute_input": "2024-06-07T18:35:35.554877Z",
     "iopub.status.busy": "2024-06-07T18:35:35.554625Z",
     "iopub.status.idle": "2024-06-07T18:35:35.557354Z",
     "shell.execute_reply": "2024-06-07T18:35:35.556937Z",
     "shell.execute_reply.started": "2024-06-07T18:35:35.554868Z"
    }
   },
   "outputs": [],
   "source": [
    "ss_df = ss_df.filter(ss_df[\"Sample_ID\"].str.ends_with(\"prot\"))"
   ]
  },
  {
   "cell_type": "code",
   "execution_count": 154,
   "id": "5d6c8a84-7a65-45a8-a971-d538f852d1ce",
   "metadata": {
    "execution": {
     "iopub.execute_input": "2024-06-07T22:50:38.250823Z",
     "iopub.status.busy": "2024-06-07T22:50:38.250510Z",
     "iopub.status.idle": "2024-06-07T22:50:38.254683Z",
     "shell.execute_reply": "2024-06-07T22:50:38.254295Z",
     "shell.execute_reply.started": "2024-06-07T22:50:38.250811Z"
    }
   },
   "outputs": [
    {
     "data": {
      "text/plain": [
       "'thing1thing2thing2'"
      ]
     },
     "execution_count": 154,
     "metadata": {},
     "output_type": "execute_result"
    }
   ],
   "source": [
    "(\n",
    "    f\"{\n",
    "        bob\n",
    "    }\"\n",
    "    f\"{carl}\"\n",
    ")"
   ]
  },
  {
   "cell_type": "code",
   "execution_count": 139,
   "id": "4e214062-fbf7-49b3-b52d-408a0fa47d5c",
   "metadata": {
    "execution": {
     "iopub.execute_input": "2024-06-07T18:33:21.894428Z",
     "iopub.status.busy": "2024-06-07T18:33:21.893961Z",
     "iopub.status.idle": "2024-06-07T18:33:21.897232Z",
     "shell.execute_reply": "2024-06-07T18:33:21.896599Z",
     "shell.execute_reply.started": "2024-06-07T18:33:21.894408Z"
    }
   },
   "outputs": [
    {
     "name": "stdout",
     "output_type": "stream",
     "text": [
      "ARA08_11_prot\n",
      "ARA08_12_prot\n",
      "ARA08_13_prot\n",
      "ARA08_14_prot\n",
      "ARA08_15_prot\n",
      "ARA08_16_prot\n",
      "ARA08_17_prot\n",
      "ARA08_18_prot\n",
      "ARA08_19_prot\n",
      "ARA08_20_prot\n",
      "ARA08_21_prot\n",
      "ARA08_22_prot\n",
      "ARA08_23_prot\n",
      "ARA08_24_prot\n"
     ]
    }
   ],
   "source": [
    "for i in ss_df.iter_rows(named=True):\n",
    "    print(f\"{i['Sample_ID']}\")"
   ]
  },
  {
   "cell_type": "code",
   "execution_count": 53,
   "id": "fc825fe0-93c7-4b54-a770-e87dcb999ea2",
   "metadata": {
    "execution": {
     "iopub.execute_input": "2024-06-06T20:49:06.079413Z",
     "iopub.status.busy": "2024-06-06T20:49:06.078849Z",
     "iopub.status.idle": "2024-06-06T20:49:06.081512Z",
     "shell.execute_reply": "2024-06-06T20:49:06.081140Z",
     "shell.execute_reply.started": "2024-06-06T20:49:06.079399Z"
    }
   },
   "outputs": [],
   "source": [
    "sample_names = ss_df['Sample_Project'].unique()"
   ]
  },
  {
   "cell_type": "code",
   "execution_count": 72,
   "id": "a8570f79-e325-42a5-a7fa-b2c9ded02375",
   "metadata": {
    "execution": {
     "iopub.execute_input": "2024-06-07T15:36:40.214772Z",
     "iopub.status.busy": "2024-06-07T15:36:40.214480Z",
     "iopub.status.idle": "2024-06-07T15:36:40.217352Z",
     "shell.execute_reply": "2024-06-07T15:36:40.216627Z",
     "shell.execute_reply.started": "2024-06-07T15:36:40.214762Z"
    }
   },
   "outputs": [],
   "source": [
    "from polars.exceptions import ColumnNotFoundError"
   ]
  },
  {
   "cell_type": "code",
   "execution_count": 88,
   "id": "8d256850-7466-4c5e-87f0-3f47aa5c2798",
   "metadata": {
    "execution": {
     "iopub.execute_input": "2024-06-07T15:41:11.328623Z",
     "iopub.status.busy": "2024-06-07T15:41:11.328317Z",
     "iopub.status.idle": "2024-06-07T15:41:11.330777Z",
     "shell.execute_reply": "2024-06-07T15:41:11.330369Z",
     "shell.execute_reply.started": "2024-06-07T15:41:11.328612Z"
    }
   },
   "outputs": [],
   "source": [
    "import pandas as pd\n",
    "import datetime\n",
    "\n",
    "bad_date = datetime.date(22, 10, 4)"
   ]
  },
  {
   "cell_type": "code",
   "execution_count": 90,
   "id": "8af73ede-1c54-4d91-892d-b102a08db257",
   "metadata": {
    "execution": {
     "iopub.execute_input": "2024-06-07T15:41:31.766452Z",
     "iopub.status.busy": "2024-06-07T15:41:31.766121Z",
     "iopub.status.idle": "2024-06-07T15:41:31.797957Z",
     "shell.execute_reply": "2024-06-07T15:41:31.797391Z",
     "shell.execute_reply.started": "2024-06-07T15:41:31.766438Z"
    },
    "scrolled": true
   },
   "outputs": [
    {
     "name": "stdout",
     "output_type": "stream",
     "text": [
      "there was a bad date\n"
     ]
    },
    {
     "ename": "OutOfBoundsDatetime",
     "evalue": "Out of bounds nanosecond timestamp: 0022-10-04, at position 0",
     "output_type": "error",
     "traceback": [
      "\u001b[0;31m---------------------------------------------------------------------------\u001b[0m",
      "\u001b[0;31mOverflowError\u001b[0m                             Traceback (most recent call last)",
      "File \u001b[0;32mnp_datetime.pyx:319\u001b[0m, in \u001b[0;36mpandas._libs.tslibs.np_datetime.pydate_to_dt64\u001b[0;34m()\u001b[0m\n",
      "\u001b[0;31mOverflowError\u001b[0m: Overflow occurred in npy_datetimestruct_to_datetime",
      "\nThe above exception was the direct cause of the following exception:\n",
      "\u001b[0;31mOutOfBoundsDatetime\u001b[0m                       Traceback (most recent call last)",
      "Cell \u001b[0;32mIn[90], line 7\u001b[0m\n\u001b[1;32m      3\u001b[0m \u001b[38;5;28;01mexcept\u001b[39;00m pd\u001b[38;5;241m.\u001b[39merrors\u001b[38;5;241m.\u001b[39mOutOfBoundsDatetime \u001b[38;5;28;01mas\u001b[39;00m e:\n\u001b[1;32m      4\u001b[0m     \u001b[38;5;66;03m# do some error handling here \u001b[39;00m\n\u001b[1;32m      5\u001b[0m     \u001b[38;5;66;03m# or raise the error\u001b[39;00m\n\u001b[1;32m      6\u001b[0m     \u001b[38;5;28mprint\u001b[39m(\u001b[38;5;124m\"\u001b[39m\u001b[38;5;124mthere was a bad date\u001b[39m\u001b[38;5;124m\"\u001b[39m)\n\u001b[0;32m----> 7\u001b[0m     \u001b[38;5;28;01mraise\u001b[39;00m e\n",
      "Cell \u001b[0;32mIn[90], line 2\u001b[0m\n\u001b[1;32m      1\u001b[0m \u001b[38;5;28;01mtry\u001b[39;00m:\n\u001b[0;32m----> 2\u001b[0m     \u001b[43mpd\u001b[49m\u001b[38;5;241;43m.\u001b[39;49m\u001b[43mto_datetime\u001b[49m\u001b[43m(\u001b[49m\u001b[43mbad_date\u001b[49m\u001b[43m)\u001b[49m\n\u001b[1;32m      3\u001b[0m \u001b[38;5;28;01mexcept\u001b[39;00m pd\u001b[38;5;241m.\u001b[39merrors\u001b[38;5;241m.\u001b[39mOutOfBoundsDatetime \u001b[38;5;28;01mas\u001b[39;00m e:\n\u001b[1;32m      4\u001b[0m     \u001b[38;5;66;03m# do some error handling here \u001b[39;00m\n\u001b[1;32m      5\u001b[0m     \u001b[38;5;66;03m# or raise the error\u001b[39;00m\n\u001b[1;32m      6\u001b[0m     \u001b[38;5;28mprint\u001b[39m(\u001b[38;5;124m\"\u001b[39m\u001b[38;5;124mthere was a bad date\u001b[39m\u001b[38;5;124m\"\u001b[39m)\n",
      "File \u001b[0;32m~/.pyenv/versions/3.12.3/envs/asg/lib/python3.12/site-packages/pandas/core/tools/datetimes.py:1101\u001b[0m, in \u001b[0;36mto_datetime\u001b[0;34m(arg, errors, dayfirst, yearfirst, utc, format, exact, unit, infer_datetime_format, origin, cache)\u001b[0m\n\u001b[1;32m   1099\u001b[0m         result \u001b[38;5;241m=\u001b[39m convert_listlike(argc, \u001b[38;5;28mformat\u001b[39m)\n\u001b[1;32m   1100\u001b[0m \u001b[38;5;28;01melse\u001b[39;00m:\n\u001b[0;32m-> 1101\u001b[0m     result \u001b[38;5;241m=\u001b[39m \u001b[43mconvert_listlike\u001b[49m\u001b[43m(\u001b[49m\u001b[43mnp\u001b[49m\u001b[38;5;241;43m.\u001b[39;49m\u001b[43marray\u001b[49m\u001b[43m(\u001b[49m\u001b[43m[\u001b[49m\u001b[43marg\u001b[49m\u001b[43m]\u001b[49m\u001b[43m)\u001b[49m\u001b[43m,\u001b[49m\u001b[43m \u001b[49m\u001b[38;5;28;43mformat\u001b[39;49m\u001b[43m)\u001b[49m[\u001b[38;5;241m0\u001b[39m]\n\u001b[1;32m   1102\u001b[0m     \u001b[38;5;28;01mif\u001b[39;00m \u001b[38;5;28misinstance\u001b[39m(arg, \u001b[38;5;28mbool\u001b[39m) \u001b[38;5;129;01mand\u001b[39;00m \u001b[38;5;28misinstance\u001b[39m(result, np\u001b[38;5;241m.\u001b[39mbool_):\n\u001b[1;32m   1103\u001b[0m         result \u001b[38;5;241m=\u001b[39m \u001b[38;5;28mbool\u001b[39m(result)  \u001b[38;5;66;03m# TODO: avoid this kludge.\u001b[39;00m\n",
      "File \u001b[0;32m~/.pyenv/versions/3.12.3/envs/asg/lib/python3.12/site-packages/pandas/core/tools/datetimes.py:435\u001b[0m, in \u001b[0;36m_convert_listlike_datetimes\u001b[0;34m(arg, format, name, utc, unit, errors, dayfirst, yearfirst, exact)\u001b[0m\n\u001b[1;32m    432\u001b[0m \u001b[38;5;28;01mif\u001b[39;00m \u001b[38;5;28mformat\u001b[39m \u001b[38;5;129;01mis\u001b[39;00m \u001b[38;5;129;01mnot\u001b[39;00m \u001b[38;5;28;01mNone\u001b[39;00m \u001b[38;5;129;01mand\u001b[39;00m \u001b[38;5;28mformat\u001b[39m \u001b[38;5;241m!=\u001b[39m \u001b[38;5;124m\"\u001b[39m\u001b[38;5;124mmixed\u001b[39m\u001b[38;5;124m\"\u001b[39m:\n\u001b[1;32m    433\u001b[0m     \u001b[38;5;28;01mreturn\u001b[39;00m _array_strptime_with_fallback(arg, name, utc, \u001b[38;5;28mformat\u001b[39m, exact, errors)\n\u001b[0;32m--> 435\u001b[0m result, tz_parsed \u001b[38;5;241m=\u001b[39m \u001b[43mobjects_to_datetime64\u001b[49m\u001b[43m(\u001b[49m\n\u001b[1;32m    436\u001b[0m \u001b[43m    \u001b[49m\u001b[43marg\u001b[49m\u001b[43m,\u001b[49m\n\u001b[1;32m    437\u001b[0m \u001b[43m    \u001b[49m\u001b[43mdayfirst\u001b[49m\u001b[38;5;241;43m=\u001b[39;49m\u001b[43mdayfirst\u001b[49m\u001b[43m,\u001b[49m\n\u001b[1;32m    438\u001b[0m \u001b[43m    \u001b[49m\u001b[43myearfirst\u001b[49m\u001b[38;5;241;43m=\u001b[39;49m\u001b[43myearfirst\u001b[49m\u001b[43m,\u001b[49m\n\u001b[1;32m    439\u001b[0m \u001b[43m    \u001b[49m\u001b[43mutc\u001b[49m\u001b[38;5;241;43m=\u001b[39;49m\u001b[43mutc\u001b[49m\u001b[43m,\u001b[49m\n\u001b[1;32m    440\u001b[0m \u001b[43m    \u001b[49m\u001b[43merrors\u001b[49m\u001b[38;5;241;43m=\u001b[39;49m\u001b[43merrors\u001b[49m\u001b[43m,\u001b[49m\n\u001b[1;32m    441\u001b[0m \u001b[43m    \u001b[49m\u001b[43mallow_object\u001b[49m\u001b[38;5;241;43m=\u001b[39;49m\u001b[38;5;28;43;01mTrue\u001b[39;49;00m\u001b[43m,\u001b[49m\n\u001b[1;32m    442\u001b[0m \u001b[43m\u001b[49m\u001b[43m)\u001b[49m\n\u001b[1;32m    444\u001b[0m \u001b[38;5;28;01mif\u001b[39;00m tz_parsed \u001b[38;5;129;01mis\u001b[39;00m \u001b[38;5;129;01mnot\u001b[39;00m \u001b[38;5;28;01mNone\u001b[39;00m:\n\u001b[1;32m    445\u001b[0m     \u001b[38;5;66;03m# We can take a shortcut since the datetime64 numpy array\u001b[39;00m\n\u001b[1;32m    446\u001b[0m     \u001b[38;5;66;03m# is in UTC\u001b[39;00m\n\u001b[1;32m    447\u001b[0m     out_unit \u001b[38;5;241m=\u001b[39m np\u001b[38;5;241m.\u001b[39mdatetime_data(result\u001b[38;5;241m.\u001b[39mdtype)[\u001b[38;5;241m0\u001b[39m]\n",
      "File \u001b[0;32m~/.pyenv/versions/3.12.3/envs/asg/lib/python3.12/site-packages/pandas/core/arrays/datetimes.py:2398\u001b[0m, in \u001b[0;36mobjects_to_datetime64\u001b[0;34m(data, dayfirst, yearfirst, utc, errors, allow_object, out_unit)\u001b[0m\n\u001b[1;32m   2395\u001b[0m \u001b[38;5;66;03m# if str-dtype, convert\u001b[39;00m\n\u001b[1;32m   2396\u001b[0m data \u001b[38;5;241m=\u001b[39m np\u001b[38;5;241m.\u001b[39masarray(data, dtype\u001b[38;5;241m=\u001b[39mnp\u001b[38;5;241m.\u001b[39mobject_)\n\u001b[0;32m-> 2398\u001b[0m result, tz_parsed \u001b[38;5;241m=\u001b[39m \u001b[43mtslib\u001b[49m\u001b[38;5;241;43m.\u001b[39;49m\u001b[43marray_to_datetime\u001b[49m\u001b[43m(\u001b[49m\n\u001b[1;32m   2399\u001b[0m \u001b[43m    \u001b[49m\u001b[43mdata\u001b[49m\u001b[43m,\u001b[49m\n\u001b[1;32m   2400\u001b[0m \u001b[43m    \u001b[49m\u001b[43merrors\u001b[49m\u001b[38;5;241;43m=\u001b[39;49m\u001b[43merrors\u001b[49m\u001b[43m,\u001b[49m\n\u001b[1;32m   2401\u001b[0m \u001b[43m    \u001b[49m\u001b[43mutc\u001b[49m\u001b[38;5;241;43m=\u001b[39;49m\u001b[43mutc\u001b[49m\u001b[43m,\u001b[49m\n\u001b[1;32m   2402\u001b[0m \u001b[43m    \u001b[49m\u001b[43mdayfirst\u001b[49m\u001b[38;5;241;43m=\u001b[39;49m\u001b[43mdayfirst\u001b[49m\u001b[43m,\u001b[49m\n\u001b[1;32m   2403\u001b[0m \u001b[43m    \u001b[49m\u001b[43myearfirst\u001b[49m\u001b[38;5;241;43m=\u001b[39;49m\u001b[43myearfirst\u001b[49m\u001b[43m,\u001b[49m\n\u001b[1;32m   2404\u001b[0m \u001b[43m    \u001b[49m\u001b[43mcreso\u001b[49m\u001b[38;5;241;43m=\u001b[39;49m\u001b[43mabbrev_to_npy_unit\u001b[49m\u001b[43m(\u001b[49m\u001b[43mout_unit\u001b[49m\u001b[43m)\u001b[49m\u001b[43m,\u001b[49m\n\u001b[1;32m   2405\u001b[0m \u001b[43m\u001b[49m\u001b[43m)\u001b[49m\n\u001b[1;32m   2407\u001b[0m \u001b[38;5;28;01mif\u001b[39;00m tz_parsed \u001b[38;5;129;01mis\u001b[39;00m \u001b[38;5;129;01mnot\u001b[39;00m \u001b[38;5;28;01mNone\u001b[39;00m:\n\u001b[1;32m   2408\u001b[0m     \u001b[38;5;66;03m# We can take a shortcut since the datetime64 numpy array\u001b[39;00m\n\u001b[1;32m   2409\u001b[0m     \u001b[38;5;66;03m#  is in UTC\u001b[39;00m\n\u001b[1;32m   2410\u001b[0m     \u001b[38;5;28;01mreturn\u001b[39;00m result, tz_parsed\n",
      "File \u001b[0;32mtslib.pyx:414\u001b[0m, in \u001b[0;36mpandas._libs.tslib.array_to_datetime\u001b[0;34m()\u001b[0m\n",
      "File \u001b[0;32mtslib.pyx:596\u001b[0m, in \u001b[0;36mpandas._libs.tslib.array_to_datetime\u001b[0;34m()\u001b[0m\n",
      "File \u001b[0;32mtslib.pyx:512\u001b[0m, in \u001b[0;36mpandas._libs.tslib.array_to_datetime\u001b[0;34m()\u001b[0m\n",
      "File \u001b[0;32mnp_datetime.pyx:322\u001b[0m, in \u001b[0;36mpandas._libs.tslibs.np_datetime.pydate_to_dt64\u001b[0;34m()\u001b[0m\n",
      "\u001b[0;31mOutOfBoundsDatetime\u001b[0m: Out of bounds nanosecond timestamp: 0022-10-04, at position 0"
     ]
    }
   ],
   "source": [
    "try:\n",
    "    pd.to_datetime(bad_date)\n",
    "except pd.errors.OutOfBoundsDatetime as e:\n",
    "    # do some error handling here \n",
    "    # or raise the error\n",
    "    print(\"there was a bad date\")\n",
    "    raise e"
   ]
  },
  {
   "cell_type": "code",
   "execution_count": null,
   "id": "162e2d70-979a-4ad2-b724-3ee4742aa1de",
   "metadata": {},
   "outputs": [],
   "source": []
  },
  {
   "cell_type": "code",
   "execution_count": 62,
   "id": "c4f9784c-30b8-471e-831f-fa5c0d57370c",
   "metadata": {
    "execution": {
     "iopub.execute_input": "2024-06-06T21:02:53.680359Z",
     "iopub.status.busy": "2024-06-06T21:02:53.680030Z",
     "iopub.status.idle": "2024-06-06T21:02:53.683064Z",
     "shell.execute_reply": "2024-06-06T21:02:53.682628Z",
     "shell.execute_reply.started": "2024-06-06T21:02:53.680344Z"
    }
   },
   "outputs": [],
   "source": [
    "sample = sample_names[0]\n",
    "sample: str,\n",
    "reference_path: Path,\n",
    "fastq_path: Path,\n",
    "mem: int=32,\n",
    "cpus: int=1,\n",
    "job_interval: int=5,\n",
    "max_num_jobs: int=8,\n",
    "mem_per_core: int=8,"
   ]
  },
  {
   "cell_type": "code",
   "execution_count": 69,
   "id": "bff57dc9-7f7f-491b-a26d-c22ed271c130",
   "metadata": {
    "execution": {
     "iopub.execute_input": "2024-06-06T21:20:24.023277Z",
     "iopub.status.busy": "2024-06-06T21:20:24.022845Z",
     "iopub.status.idle": "2024-06-06T21:20:24.026285Z",
     "shell.execute_reply": "2024-06-06T21:20:24.025894Z",
     "shell.execute_reply.started": "2024-06-06T21:20:24.023259Z"
    }
   },
   "outputs": [
    {
     "data": {
      "text/plain": [
       "'#! /bin/bash -l#SBATCH -J ARA08_12_count#SBATCH -o ARA08_12_count.log#SBATCH --mail-user=None#SBATCH --mail-type=END,FAIL#SBATCH --mem=32G#SBATCH --partition=serial#SBATCH --nodes=1#SBATCH --cpus-per-task=2'"
      ]
     },
     "execution_count": 69,
     "metadata": {},
     "output_type": "execute_result"
    }
   ],
   "source": [
    "script_header=(\n",
    "        f\"#! /bin/bash -l\\n\"\n",
    "        f\"#SBATCH -J {sample}_count\\n\"\n",
    "        f\"#SBATCH -o {sample}_count.log\\n\"\n",
    "        f\"#SBATCH --mail-user=None\\n\"\n",
    "        f\"#SBATCH --mail-type=END,FAIL\\n\"\n",
    "        f\"#SBATCH --mem={mem}G\\n\"\n",
    "        f\"#SBATCH --partition=serial\\n\"\n",
    "        f\"#SBATCH --nodes=1\\n\"\n",
    "        f\"#SBATCH --cpus-per-task={cpus}\\n\"\n",
    "    )\n",
    "\n",
    "load_module = \"module load cellranger-atac/2.1.0\\n\"\n",
    "\n",
    "count_txt=(\n",
    "    f\"cellranger-atac \"\n",
    "        f\"count \"\n",
    "        f\"--id={sample} \"\n",
    "        f\"--reference={reference_path} \"\n",
    "        f\"--fastqs={fastq_path} \"\n",
    "        f\"--jobmode={job_template_path} \\\"\n",
    "        f\"--disable-ui \\\"\n",
    "        f\"--jobinterval={job_interval} \\\"\n",
    "        f\"--maxjobs={max_num_jobs} \\\"\n",
    "        f\"--mempercore={mem_per_core} \\\"\n",
    "        f\"--sample={sample}_scATAC\"\n",
    ")"
   ]
  },
  {
   "cell_type": "code",
   "execution_count": 66,
   "id": "e11800ed-0080-4326-8775-ade61fb937d0",
   "metadata": {
    "execution": {
     "iopub.execute_input": "2024-06-06T21:03:43.854012Z",
     "iopub.status.busy": "2024-06-06T21:03:43.853441Z",
     "iopub.status.idle": "2024-06-06T21:03:43.858577Z",
     "shell.execute_reply": "2024-06-06T21:03:43.858015Z",
     "shell.execute_reply.started": "2024-06-06T21:03:43.853984Z"
    }
   },
   "outputs": [
    {
     "data": {
      "text/plain": [
       "'#! /bin/bash -l\\n#SBATCH -J ARA08_12_count\\n#SBATCH -o ARA08_12_count.log\\n#SBATCH --mail-user=None\\n#SBATCH --mail-type=END,FAIL\\n#SBATCH --mem=32G\\n#SBATCH --partition=serial\\n#SBATCH --nodes=1\\n#SBATCH --cpus-per-task=2\\n'"
      ]
     },
     "execution_count": 66,
     "metadata": {},
     "output_type": "execute_result"
    }
   ],
   "source": [
    "script_header"
   ]
  },
  {
   "cell_type": "code",
   "execution_count": 91,
   "id": "bfe159bb-951c-4f63-89d4-77c83ebc33dc",
   "metadata": {
    "execution": {
     "iopub.execute_input": "2024-06-07T16:25:52.520406Z",
     "iopub.status.busy": "2024-06-07T16:25:52.519901Z",
     "iopub.status.idle": "2024-06-07T16:25:52.524292Z",
     "shell.execute_reply": "2024-06-07T16:25:52.523769Z",
     "shell.execute_reply.started": "2024-06-07T16:25:52.520394Z"
    }
   },
   "outputs": [],
   "source": [
    "from enum import Enum\n",
    "\n",
    "class Demuxer(str, Enum):\n",
    "    mkfastq = \"mkfastq\"\n",
    "    bcl_convert = \"bcl-convert\""
   ]
  },
  {
   "cell_type": "code",
   "execution_count": 92,
   "id": "4d2f1e1b-a18e-42fb-a103-f33b59b4e7a3",
   "metadata": {
    "execution": {
     "iopub.execute_input": "2024-06-07T16:26:00.633275Z",
     "iopub.status.busy": "2024-06-07T16:26:00.632983Z",
     "iopub.status.idle": "2024-06-07T16:26:00.635638Z",
     "shell.execute_reply": "2024-06-07T16:26:00.635222Z",
     "shell.execute_reply.started": "2024-06-07T16:26:00.633265Z"
    }
   },
   "outputs": [],
   "source": [
    "bob = Demuxer.bcl_convert"
   ]
  },
  {
   "cell_type": "code",
   "execution_count": 93,
   "id": "c96f50c8-19e9-4b2d-9ebf-17b2309e6093",
   "metadata": {
    "execution": {
     "iopub.execute_input": "2024-06-07T16:26:02.498339Z",
     "iopub.status.busy": "2024-06-07T16:26:02.498014Z",
     "iopub.status.idle": "2024-06-07T16:26:02.501724Z",
     "shell.execute_reply": "2024-06-07T16:26:02.501326Z",
     "shell.execute_reply.started": "2024-06-07T16:26:02.498330Z"
    }
   },
   "outputs": [
    {
     "data": {
      "text/plain": [
       "<Demuxer.bcl_convert: 'bcl-convert'>"
      ]
     },
     "execution_count": 93,
     "metadata": {},
     "output_type": "execute_result"
    }
   ],
   "source": [
    "bob"
   ]
  },
  {
   "cell_type": "code",
   "execution_count": 96,
   "id": "61caebca-0dc7-4a8e-b05b-6fd70bfa05f5",
   "metadata": {
    "execution": {
     "iopub.execute_input": "2024-06-07T16:26:18.208823Z",
     "iopub.status.busy": "2024-06-07T16:26:18.208673Z",
     "iopub.status.idle": "2024-06-07T16:26:18.211949Z",
     "shell.execute_reply": "2024-06-07T16:26:18.211556Z",
     "shell.execute_reply.started": "2024-06-07T16:26:18.208814Z"
    }
   },
   "outputs": [
    {
     "data": {
      "text/plain": [
       "'bcl-convert'"
      ]
     },
     "execution_count": 96,
     "metadata": {},
     "output_type": "execute_result"
    }
   ],
   "source": [
    "f\"{bob.value}\""
   ]
  },
  {
   "cell_type": "code",
   "execution_count": 98,
   "id": "b2ff3784-705d-4b81-818c-a56515a7f4ee",
   "metadata": {
    "execution": {
     "iopub.execute_input": "2024-06-07T17:06:03.640668Z",
     "iopub.status.busy": "2024-06-07T17:06:03.640415Z",
     "iopub.status.idle": "2024-06-07T17:06:03.643041Z",
     "shell.execute_reply": "2024-06-07T17:06:03.642570Z",
     "shell.execute_reply.started": "2024-06-07T17:06:03.640658Z"
    }
   },
   "outputs": [],
   "source": [
    "bob=\"thing1\"\n",
    "carl=\"thing2\"\n",
    "doug=None"
   ]
  },
  {
   "cell_type": "code",
   "execution_count": 101,
   "id": "233ad383-1057-40fa-9db9-d014191e5269",
   "metadata": {
    "execution": {
     "iopub.execute_input": "2024-06-07T17:06:39.443296Z",
     "iopub.status.busy": "2024-06-07T17:06:39.442869Z",
     "iopub.status.idle": "2024-06-07T17:06:39.446348Z",
     "shell.execute_reply": "2024-06-07T17:06:39.445805Z",
     "shell.execute_reply.started": "2024-06-07T17:06:39.443281Z"
    }
   },
   "outputs": [
    {
     "ename": "SyntaxError",
     "evalue": "f-string: expecting '=', or '!', or ':', or '}' (3366241582.py, line 1)",
     "output_type": "error",
     "traceback": [
      "\u001b[0;36m  Cell \u001b[0;32mIn[101], line 1\u001b[0;36m\u001b[0m\n\u001b[0;31m    f\"{bob}{doug if doug else pass}{carl}\"\u001b[0m\n\u001b[0m                 ^\u001b[0m\n\u001b[0;31mSyntaxError\u001b[0m\u001b[0;31m:\u001b[0m f-string: expecting '=', or '!', or ':', or '}'\n"
     ]
    }
   ],
   "source": [
    "f\"{bob}{doug if doug else pass}{carl}\""
   ]
  },
  {
   "cell_type": "code",
   "execution_count": 102,
   "id": "11061302-00a9-48dc-984f-5866b8e77d88",
   "metadata": {
    "execution": {
     "iopub.execute_input": "2024-06-07T17:14:17.489711Z",
     "iopub.status.busy": "2024-06-07T17:14:17.489362Z",
     "iopub.status.idle": "2024-06-07T17:14:17.492525Z",
     "shell.execute_reply": "2024-06-07T17:14:17.492121Z",
     "shell.execute_reply.started": "2024-06-07T17:14:17.489697Z"
    }
   },
   "outputs": [
    {
     "data": {
      "text/plain": [
       "'thing1'"
      ]
     },
     "execution_count": 102,
     "metadata": {},
     "output_type": "execute_result"
    }
   ],
   "source": [
    "bob"
   ]
  },
  {
   "cell_type": "code",
   "execution_count": 103,
   "id": "957d4737-3570-4607-adb4-08180152966e",
   "metadata": {
    "execution": {
     "iopub.execute_input": "2024-06-07T17:14:25.304833Z",
     "iopub.status.busy": "2024-06-07T17:14:25.304692Z",
     "iopub.status.idle": "2024-06-07T17:14:25.307720Z",
     "shell.execute_reply": "2024-06-07T17:14:25.307310Z",
     "shell.execute_reply.started": "2024-06-07T17:14:25.304824Z"
    }
   },
   "outputs": [
    {
     "data": {
      "text/plain": [
       "'thing1thing2'"
      ]
     },
     "execution_count": 103,
     "metadata": {},
     "output_type": "execute_result"
    }
   ],
   "source": [
    "bob+=carl\n",
    "bob"
   ]
  }
 ],
 "metadata": {
  "kernelspec": {
   "display_name": "Python 3 (ipykernel)",
   "language": "python",
   "name": "python3"
  },
  "language_info": {
   "codemirror_mode": {
    "name": "ipython",
    "version": 3
   },
   "file_extension": ".py",
   "mimetype": "text/x-python",
   "name": "python",
   "nbconvert_exporter": "python",
   "pygments_lexer": "ipython3",
   "version": "3.12.3"
  }
 },
 "nbformat": 4,
 "nbformat_minor": 5
}
